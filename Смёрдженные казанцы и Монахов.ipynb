{
  "nbformat": 4,
  "nbformat_minor": 0,
  "metadata": {
    "colab": {
      "provenance": [],
      "authorship_tag": "ABX9TyMqhIPutoG3/GK/vXtY25MV",
      "include_colab_link": true
    },
    "kernelspec": {
      "name": "python3",
      "display_name": "Python 3"
    },
    "language_info": {
      "name": "python"
    }
  },
  "cells": [
    {
      "cell_type": "markdown",
      "metadata": {
        "id": "view-in-github",
        "colab_type": "text"
      },
      "source": [
        "<a href=\"https://colab.research.google.com/github/Vakhranev/Pushkina/blob/main/%D0%A1%D0%BC%D1%91%D1%80%D0%B4%D0%B6%D0%B5%D0%BD%D0%BD%D1%8B%D0%B5%20%D0%BA%D0%B0%D0%B7%D0%B0%D0%BD%D1%86%D1%8B%20%D0%B8%20%D0%9C%D0%BE%D0%BD%D0%B0%D1%85%D0%BE%D0%B2.ipynb\" target=\"_parent\"><img src=\"https://colab.research.google.com/assets/colab-badge.svg\" alt=\"Open In Colab\"/></a>"
      ]
    },
    {
      "cell_type": "code",
      "execution_count": null,
      "metadata": {
        "colab": {
          "base_uri": "https://localhost:8080/"
        },
        "id": "DQJYE6rowpJD",
        "outputId": "210869c2-ea62-4d73-a2d4-620ea062baaf"
      },
      "outputs": [
        {
          "output_type": "stream",
          "name": "stdout",
          "text": [
            "Файл успешно обработан и сохранён!\n"
          ]
        }
      ],
      "source": [
        "import pandas as pd\n",
        "\n",
        "# Загрузка файла\n",
        "df = pd.read_excel(\"Термины 5-11 классы Монахов (1).xlsx\")\n",
        "\n",
        "# Таблица соответствий\n",
        "mapping = {\n",
        "    \"artisticculture\": \"Изобразительное искусство\",\n",
        "    \"art\": \"Изобразительное искусство\",\n",
        "    \"geometry\": \"Геометрия\",\n",
        "    \"maths\": \"Математика\",\n",
        "    \"matan\": \"Алгебра\",\n",
        "    \"algebra\": \"Алгебра\",\n",
        "    \"biology\": \"Биология\",\n",
        "    \"natsci\": \"Естествознание\",\n",
        "    \"literature\": \"Литература\",\n",
        "    \"physicaled\": \"Физическая культура\",\n",
        "    \"informatics\": \"Информатика\",\n",
        "    \"music\": \"Музыка\",\n",
        "    \"astronomy\": \"Астрономия\",\n",
        "    \"crafts\": \"Технология\",\n",
        "    \"ruslang\": \"Русский язык\",\n",
        "    \"sociology\": \"Обществознание\",\n",
        "    \"physics\": \"Физика\",\n",
        "    \"law\": \"Обществознание\",\n",
        "    \"chemistry\": \"Химия\",\n",
        "    \"geography\": \"География\",\n",
        "    \"history\": \"История\"\n",
        "}\n",
        "\n",
        "# Функция обработки дисциплин и классов\n",
        "def process_disciplines(disciplines, stages):\n",
        "    if isinstance(disciplines, str):\n",
        "        disciplines = eval(disciplines)  # Преобразуем строку в список\n",
        "    elif isinstance(disciplines, float):  # Проверяем, является ли disciplines числом с плавающей точкой\n",
        "        disciplines = [disciplines]     # Если да, то преобразуем его в список\n",
        "    if isinstance(stages, str):\n",
        "        stages = eval(stages)\n",
        "    elif isinstance(stages, float):  # Проверяем, является ли stages числом с плавающей точкой\n",
        "        stages = [stages]       # Если да, то преобразуем его в список\n",
        "\n",
        "    new_disciplines = []\n",
        "    new_stages = []\n",
        "    seen = set()\n",
        "\n",
        "    for i, subject in enumerate(disciplines):\n",
        "        mapped_subject = mapping.get(subject, subject)\n",
        "        if mapped_subject not in seen:\n",
        "            seen.add(mapped_subject)\n",
        "            new_disciplines.append(mapped_subject)\n",
        "            new_stages.append(stages[i])\n",
        "\n",
        "    return str(new_disciplines), str(new_stages)\n",
        "\n",
        "# Применение обработки\n",
        "df[['discipline', 'stages']] = df.apply(lambda row: process_disciplines(row['discipline'], row['stages']), axis=1, result_type='expand')\n",
        "\n",
        "# Сохранение результата\n",
        "df.to_excel(\"Термины 5-11 классы Монахов (обработанный).xlsx\", index=False)\n",
        "\n",
        "print(\"Файл успешно обработан и сохранён!\")"
      ]
    },
    {
      "cell_type": "code",
      "source": [
        "!pip install pymorphy3\n",
        "\n",
        "import pandas as pd\n",
        "import pymorphy3\n",
        "import re"
      ],
      "metadata": {
        "id": "Pv4UCLVOQe_5"
      },
      "execution_count": null,
      "outputs": []
    },
    {
      "cell_type": "code",
      "source": [
        "import pandas as pd\n",
        "import pymorphy3\n",
        "import re\n",
        "\n",
        "# Загружаем файл\n",
        "df = pd.read_excel(\"terms (6).xlsx\")\n",
        "\n",
        "# Инициализируем морфологический анализатор\n",
        "morph = pymorphy3.MorphAnalyzer()\n",
        "\n",
        "def normalize_phrase(phrase):\n",
        "    words = re.sub(r',', '', phrase).split()\n",
        "    normalized_words = [morph.parse(word)[0].normal_form for word in words]\n",
        "    return \"_\".join(normalized_words)\n",
        "\n",
        "# Создаём новый столбец с нормализованными терминами\n",
        "df[\"F\"] = df[\"Слово или сочетание\"].astype(str).apply(normalize_phrase)\n",
        "\n",
        "# Обрабатываем дублированные строки\n",
        "processed_rows = {}\n",
        "\n",
        "for _, row in df.iterrows():\n",
        "    term = row[\"F\"]\n",
        "    subjects = row[\"Предмет\"].split(\", \") if pd.notna(row[\"Предмет\"]) else []\n",
        "    min_classes = list(map(int, str(row[\"Минимальный класс, где встречается\"]).split(\", \"))) if pd.notna(row[\"Минимальный класс, где встречается\"]) else []\n",
        "    freq = row[\"Частота\"]\n",
        "\n",
        "    if term in processed_rows:\n",
        "        existing = processed_rows[term]\n",
        "\n",
        "        # Создаём словари предметов и классов\n",
        "        existing_subjects = existing[\"Предмет\"].split(\", \") if pd.notna(existing[\"Предмет\"]) else []\n",
        "        existing_classes = list(map(int, str(existing[\"Минимальный класс, где встречается\"]).split(\", \"))) if pd.notna(existing[\"Минимальный класс, где встречается\"]) else []\n",
        "\n",
        "        subject_class_map = dict(zip(existing_subjects, existing_classes))\n",
        "\n",
        "        for subj, cls in zip(subjects, min_classes):\n",
        "            if subj in subject_class_map:\n",
        "                subject_class_map[subj] = min(subject_class_map[subj], cls)\n",
        "            else:\n",
        "                subject_class_map[subj] = cls\n",
        "\n",
        "        # Обновляем данные\n",
        "        existing[\"Предмет\"] = \", \".join(subject_class_map.keys())\n",
        "        existing[\"Минимальный класс, где встречается\"] = \", \".join(map(str, subject_class_map.values()))\n",
        "        existing[\"Частота\"] += freq\n",
        "\n",
        "    else:\n",
        "        processed_rows[term] = row.to_dict()\n",
        "\n",
        "# Преобразуем обратно в DataFrame\n",
        "result_df = pd.DataFrame(processed_rows.values())\n",
        "\n",
        "# Сохраняем результат\n",
        "output_file = \"terms_normalized.xlsx\"\n",
        "result_df.to_excel(output_file, index=False)\n",
        "print(f\"Файл {output_file} успешно сохранён!\")"
      ],
      "metadata": {
        "colab": {
          "base_uri": "https://localhost:8080/"
        },
        "id": "6tfzqWwu1Dr2",
        "outputId": "8661e8e4-779a-425e-faf5-15ba235c7f6b"
      },
      "execution_count": 5,
      "outputs": [
        {
          "output_type": "stream",
          "name": "stdout",
          "text": [
            "Файл terms_normalized.xlsx успешно сохранён!\n"
          ]
        }
      ]
    },
    {
      "cell_type": "code",
      "source": [
        "import pandas as pd\n",
        "\n",
        "# Загружаем оба файла\n",
        "terms_df = pd.read_excel(\"terms_normalized.xlsx\")\n",
        "monakhov_df = pd.read_excel(\"Термины 5-11 классы Монахов (обработанный).xlsx\")\n",
        "\n",
        "# Объединяем по Начальным формам и termin\n",
        "merged_df = pd.merge(terms_df, monakhov_df, left_on=\"F\", right_on=\"termin\", how=\"outer\")\n",
        "\n",
        "# Сохраняем в новый файл\n",
        "merged_df.to_excel(\"merged_terms.xlsx\", index=False)\n",
        "\n",
        "print(\"Объединённый файл сохранён как merged_terms.xlsx\")"
      ],
      "metadata": {
        "colab": {
          "base_uri": "https://localhost:8080/"
        },
        "id": "AfWFa8Ci22Qp",
        "outputId": "629fa906-2698-44d8-c9f1-b04b476bf18e"
      },
      "execution_count": 6,
      "outputs": [
        {
          "output_type": "stream",
          "name": "stdout",
          "text": [
            "Объединённый файл сохранён как merged_terms.xlsx\n"
          ]
        }
      ]
    }
  ]
}