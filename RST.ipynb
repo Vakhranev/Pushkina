{
  "nbformat": 4,
  "nbformat_minor": 0,
  "metadata": {
    "colab": {
      "provenance": [],
      "authorship_tag": "ABX9TyOoT28Ey+1TL1JUj1FrekbO",
      "include_colab_link": true
    },
    "kernelspec": {
      "name": "python3",
      "display_name": "Python 3"
    },
    "language_info": {
      "name": "python"
    }
  },
  "cells": [
    {
      "cell_type": "markdown",
      "metadata": {
        "id": "view-in-github",
        "colab_type": "text"
      },
      "source": [
        "<a href=\"https://colab.research.google.com/github/Vakhranev/Pushkina/blob/main/RST.ipynb\" target=\"_parent\"><img src=\"https://colab.research.google.com/assets/colab-badge.svg\" alt=\"Open In Colab\"/></a>"
      ]
    },
    {
      "cell_type": "code",
      "execution_count": null,
      "metadata": {
        "id": "dR4_CDfleYd_"
      },
      "outputs": [],
      "source": [
        "!pip install git+https://github.com/iinemo/isanlp.git\n",
        "!pip install isanlp_rst"
      ]
    },
    {
      "cell_type": "code",
      "source": [
        "!pip uninstall -y numpy scipy scikit-learn transformers\n",
        "!pip install --upgrade pip\n",
        "!pip install numpy==1.26.4 scipy==1.11.4 scikit-learn transformers"
      ],
      "metadata": {
        "id": "cjjO8_7kliwR"
      },
      "execution_count": null,
      "outputs": []
    },
    {
      "cell_type": "code",
      "source": [
        "# Удаляем текущие версии, которые могут конфликтовать\n",
        "!pip uninstall -y wandb protobuf\n",
        "\n",
        "# Устанавливаем совместимые версии\n",
        "!pip install protobuf==3.20.3 wandb==0.15.12"
      ],
      "metadata": {
        "id": "v-S8iyLCtu2U"
      },
      "execution_count": null,
      "outputs": []
    },
    {
      "cell_type": "code",
      "source": [
        "import os\n",
        "os.environ['WANDB_DISABLED'] = 'true'"
      ],
      "metadata": {
        "id": "GeD_159ut-tP"
      },
      "execution_count": null,
      "outputs": []
    },
    {
      "cell_type": "code",
      "source": [
        "from isanlp_rst.parser import Parser\n",
        "\n",
        "# Инициализация парсера (можно без GPU, если cuda_device=-1)\n",
        "parser = Parser(\n",
        "    hf_model_name='tchewik/isanlp_rst_v3',\n",
        "    hf_model_version='rstreebank',  # русский\n",
        "    cuda_device=-1\n",
        ")"
      ],
      "metadata": {
        "id": "74AMLhW3ieUa"
      },
      "execution_count": null,
      "outputs": []
    },
    {
      "cell_type": "code",
      "source": [
        "text = \"\"\"\n",
        "В сентябре 1773 году донской казак Пугачёв объявил себя чудесно спасшимся императором Петром и обещал пожаловать яицких казаков землёй, денежным довольствием, провиантом, боеприпасами и прошением «во всех винах». С отрядом в 200 казаков Пугачёв начал захватывать небольшие крепости Яицкой укреплённой линии, жестоко расправляясь с офицерами и их семьями. При этом солдат из крепостных гарнизонов он принимал в ряды восставших. В октябре его 8-тысячный отряд, имевший уже и артиллерию, осадил Оренбург. Сюда, в стан Пугачёва, прибыли первые отряды башкир, калмыков, марийцев, недовольных национальной политикой правительства.\n",
        "Восставшим удалось разгромить полуторатысячный отряд генерала В. А. Кара, посланный на выручку осаждённому городу. После этого правительство Екатерины II трезво оценило масштаб народного движения и перестало скрывать факт восстания от населения. В марте 1774 г. регулярным войскам генерала П. М. Голицына удалось разгромить мятежников и снять осаду с Оренбурга.\n",
        "Но Пугачёв с 500 казаками ушёл за реку Урал, в Башкирию. Здесь, на Южном Урале, ряды восставших пополнили заводские работные люди и отряды башкир.\n",
        "Потерпев новые поражения от правительственных войск, Пугачёв повернул в Казанскую губернию. Узнав о его приближении, крестьяне начали поджигать и грабить помещичьи усадьбы. Своих «освободителей» они встречали хлебом-солью. При подходе к Казани отряды восставших насчитывали около 20 тыс. человек. Однако, взяв город, пугачёвцы не сумели ворваться в кремль, а чуть позже противостоять подоспевшим полкам.\n",
        "\"\"\""
      ],
      "metadata": {
        "id": "8XTg8Nq9Ny3N"
      },
      "execution_count": null,
      "outputs": []
    },
    {
      "cell_type": "code",
      "source": [
        "res = parser(text)\n",
        "\n",
        "# Доступ к RST-дереву\n",
        "rst_tree = res['rst'][0]"
      ],
      "metadata": {
        "id": "nRzTcvgWQkda"
      },
      "execution_count": null,
      "outputs": []
    },
    {
      "cell_type": "code",
      "source": [
        "def print_rst(node, indent=0):\n",
        "    print(' ' * indent + f\"Text: {node.text.strip()}\")\n",
        "    print(' ' * indent + f\"Relation: {node.relation}, Nuclearity: {node.nuclearity}\")\n",
        "    if node.left and node.right:\n",
        "        print_rst(node.left, indent + 4)\n",
        "        print_rst(node.right, indent + 4)\n",
        "\n",
        "print_rst(rst_tree)"
      ],
      "metadata": {
        "id": "ZlHDxvLAQ9PJ"
      },
      "execution_count": null,
      "outputs": []
    },
    {
      "cell_type": "code",
      "source": [
        "rst_tree.to_rs3(\"output.rs3\")"
      ],
      "metadata": {
        "id": "IXReG1yiRNCY"
      },
      "execution_count": null,
      "outputs": []
    },
    {
      "cell_type": "code",
      "source": [
        "text2 = \"\"\"\n",
        "Три состояния вещества.\n",
        "Вещество может находиться в твёрдом, жидком или газообразном состоянии. Их называют агрегатными состояниями. Газ занимает весь предоставленный ему объём и легко сжимаем. Объясняется это хаотическим движением молекул в газах и тем, что расстояния между молекулами в газах намного больше размеров молекул. Жидкость принимает форму сосуда, в котором она находится. Это обусловлено текучестью жидкости. Жидкость практически несжимаема, потому что молекулы в жидкости расположены вплотную друг к другу. Твёрдые тела сохраняют объём и форму. Твёрдые тела бывают кристаллическими и аморфными. Примеры кристаллических тел — поваренная соль и металлы. Примеры аморфных тел — стекло и смола.\n",
        "Атомы или молекулы в кристаллах расположены упорядоченно, образуя кристаллическую решётку. В расположении молекул аморфного тела нет определённого порядка. Каждое кристаллическое тело плавится (превращается в жидкость) при определённой температуре (температуре плавления). Аморфные тела не имеют определённой температуры плавления: при нагревании они размягчаются постепенно.\n",
        "\"\"\""
      ],
      "metadata": {
        "id": "Nu5LTQS5UDLA"
      },
      "execution_count": null,
      "outputs": []
    },
    {
      "cell_type": "code",
      "source": [
        "res2 = parser(text2)\n",
        "\n",
        "# Доступ к RST-дереву\n",
        "rst_tree2 = res2['rst'][0]"
      ],
      "metadata": {
        "id": "8UG-mDkHUhKZ"
      },
      "execution_count": null,
      "outputs": []
    },
    {
      "cell_type": "code",
      "source": [
        "print_rst(rst_tree2)"
      ],
      "metadata": {
        "id": "1ueM6iHaWjdW"
      },
      "execution_count": null,
      "outputs": []
    },
    {
      "cell_type": "code",
      "source": [
        "rst_tree.to_rs3(\"output2.rs3\")"
      ],
      "metadata": {
        "id": "0BP6aMfDW0mN"
      },
      "execution_count": null,
      "outputs": []
    }
  ]
}