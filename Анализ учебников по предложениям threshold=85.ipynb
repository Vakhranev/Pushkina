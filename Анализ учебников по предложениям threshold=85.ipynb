{
  "cells": [
    {
      "cell_type": "markdown",
      "metadata": {
        "id": "view-in-github",
        "colab_type": "text"
      },
      "source": [
        "<a href=\"https://colab.research.google.com/github/Vakhranev/Pushkina/blob/main/%D0%90%D0%BD%D0%B0%D0%BB%D0%B8%D0%B7%20%D1%83%D1%87%D0%B5%D0%B1%D0%BD%D0%B8%D0%BA%D0%BE%D0%B2%20%D0%BF%D0%BE%20%D0%BF%D1%80%D0%B5%D0%B4%D0%BB%D0%BE%D0%B6%D0%B5%D0%BD%D0%B8%D1%8F%D0%BC%20threshold%3D85.ipynb\" target=\"_parent\"><img src=\"https://colab.research.google.com/assets/colab-badge.svg\" alt=\"Open In Colab\"/></a>"
      ]
    },
    {
      "cell_type": "code",
      "execution_count": 1,
      "metadata": {
        "colab": {
          "base_uri": "https://localhost:8080/"
        },
        "id": "FYNZ_uPkx1j4",
        "outputId": "a453aae9-65ae-4be9-ab27-625654b6e7cd"
      },
      "outputs": [
        {
          "output_type": "stream",
          "name": "stdout",
          "text": [
            "Collecting python-docx\n",
            "  Downloading python_docx-1.2.0-py3-none-any.whl.metadata (2.0 kB)\n",
            "Requirement already satisfied: nltk in /usr/local/lib/python3.11/dist-packages (3.9.1)\n",
            "Requirement already satisfied: lxml>=3.1.0 in /usr/local/lib/python3.11/dist-packages (from python-docx) (5.4.0)\n",
            "Requirement already satisfied: typing_extensions>=4.9.0 in /usr/local/lib/python3.11/dist-packages (from python-docx) (4.14.0)\n",
            "Requirement already satisfied: click in /usr/local/lib/python3.11/dist-packages (from nltk) (8.2.1)\n",
            "Requirement already satisfied: joblib in /usr/local/lib/python3.11/dist-packages (from nltk) (1.5.1)\n",
            "Requirement already satisfied: regex>=2021.8.3 in /usr/local/lib/python3.11/dist-packages (from nltk) (2024.11.6)\n",
            "Requirement already satisfied: tqdm in /usr/local/lib/python3.11/dist-packages (from nltk) (4.67.1)\n",
            "Downloading python_docx-1.2.0-py3-none-any.whl (252 kB)\n",
            "\u001b[2K   \u001b[90m━━━━━━━━━━━━━━━━━━━━━━━━━━━━━━━━━━━━━━━━\u001b[0m \u001b[32m253.0/253.0 kB\u001b[0m \u001b[31m5.9 MB/s\u001b[0m eta \u001b[36m0:00:00\u001b[0m\n",
            "\u001b[?25hInstalling collected packages: python-docx\n",
            "Successfully installed python-docx-1.2.0\n"
          ]
        }
      ],
      "source": [
        "!pip install python-docx nltk"
      ]
    },
    {
      "cell_type": "code",
      "execution_count": 2,
      "metadata": {
        "colab": {
          "base_uri": "https://localhost:8080/"
        },
        "id": "grFDF0__Iust",
        "outputId": "59f03190-825e-4898-d929-7c71cc1f7ba6"
      },
      "outputs": [
        {
          "output_type": "stream",
          "name": "stderr",
          "text": [
            "[nltk_data] Downloading package punkt to /root/nltk_data...\n",
            "[nltk_data]   Unzipping tokenizers/punkt.zip.\n",
            "[nltk_data] Downloading package punkt_tab to /root/nltk_data...\n",
            "[nltk_data]   Unzipping tokenizers/punkt_tab.zip.\n"
          ]
        },
        {
          "output_type": "stream",
          "name": "stdout",
          "text": [
            "Сводка совпадений:\n",
            "- old История нашего края. ДНР. 5 класс.docx: 0.45% (18 из 3997 предложений совпадают)\n",
            "- old История нашего края. Запорожская область. 5 класс.docx: 0.18% (7 из 3997 предложений совпадают)\n",
            "- old История нашего края. ЛНР. 5 класс.docx: 0.25% (10 из 3997 предложений совпадают)\n",
            "- old История нашего края. Херсонская область. 5 класс.docx: 0.1% (4 из 3997 предложений совпадают)\n"
          ]
        }
      ],
      "source": [
        "import docx\n",
        "import nltk\n",
        "import os\n",
        "from difflib import SequenceMatcher\n",
        "import csv\n",
        "import re\n",
        "\n",
        "nltk.download('punkt')\n",
        "nltk.download('punkt_tab')\n",
        "from nltk.tokenize import sent_tokenize\n",
        "\n",
        "def extract_text_from_docx(path):\n",
        "    doc = docx.Document(path)\n",
        "    full_text = \"\\n\".join(p.text.strip() for p in doc.paragraphs if p.text.strip())\n",
        "    return full_text\n",
        "\n",
        "def clean_and_filter_sentences(text, min_words=3, min_chars=7):\n",
        "    raw_sents = sent_tokenize(text, language='russian')\n",
        "    filtered = []\n",
        "    for s in raw_sents:\n",
        "        s_clean = s.strip()\n",
        "        # Удалим технические маркеры и слишком короткие предложения\n",
        "        s_clean = re.sub(r'^\\d+[.)]?\\s*', '', s_clean)  # убираем \"1.\", \"2)\", \"3. \" и т.п.\n",
        "        if len(s_clean) < min_chars:\n",
        "            continue\n",
        "        if len(s_clean.split()) < min_words:\n",
        "            continue\n",
        "        filtered.append(s_clean)\n",
        "    return filtered\n",
        "\n",
        "def is_similar(a, b, threshold):\n",
        "    return SequenceMatcher(None, a, b).ratio() >= threshold\n",
        "\n",
        "def compare_sentences(base_sents, other_sents, threshold):\n",
        "    matches = []\n",
        "    for sent1 in base_sents:\n",
        "        for sent2 in other_sents:\n",
        "            if is_similar(sent1, sent2, threshold):\n",
        "                matches.append((sent1, sent2))\n",
        "                break  # считаем только первое совпадение\n",
        "    return matches\n",
        "\n",
        "def process_files(new_path, old_paths, threshold):\n",
        "    new_text = extract_text_from_docx(new_path)\n",
        "    new_sents = clean_and_filter_sentences(new_text)\n",
        "\n",
        "    summary = []\n",
        "    for old_path in old_paths:\n",
        "        old_text = extract_text_from_docx(old_path)\n",
        "        old_sents = clean_and_filter_sentences(old_text)\n",
        "\n",
        "        matches = compare_sentences(new_sents, old_sents, threshold=threshold)\n",
        "        percent = len(matches) / len(new_sents) * 100\n",
        "\n",
        "        summary.append({\n",
        "            'file': os.path.basename(old_path),\n",
        "            'matches': len(matches),\n",
        "            'total': len(new_sents),\n",
        "            'percent': round(percent, 2),\n",
        "            'matched_pairs': matches,\n",
        "        })\n",
        "\n",
        "        # save matched pairs\n",
        "        output_file = f\"matches_{os.path.basename(old_path)}.csv\"\n",
        "        with open(output_file, 'w', encoding='utf-8', newline='') as f:\n",
        "            writer = csv.writer(f)\n",
        "            writer.writerow(['Новый учебник', 'Старый учебник'])\n",
        "            writer.writerows(matches)\n",
        "\n",
        "    return summary\n",
        "\n",
        "# === Пример использования ===\n",
        "new_file = 'new История нашего края. Донбасс и Новороссия. 5 класс.docx'\n",
        "old_files = [\n",
        "    'old История нашего края. ДНР. 5 класс.docx',\n",
        "    'old История нашего края. Запорожская область. 5 класс.docx',\n",
        "    'old История нашего края. ЛНР. 5 класс.docx',\n",
        "    'old История нашего края. Херсонская область. 5 класс.docx'\n",
        "]\n",
        "\n",
        "threshold = 0.85\n",
        "results = process_files(new_file, old_files, threshold)\n",
        "\n",
        "print(\"Сводка совпадений:\")\n",
        "for r in results:\n",
        "    print(f\"- {r['file']}: {r['percent']}% ({r['matches']} из {r['total']} предложений совпадают)\")"
      ]
    }
  ],
  "metadata": {
    "colab": {
      "provenance": [],
      "authorship_tag": "ABX9TyNzN/qI32ZRaF5OhtreTZls",
      "include_colab_link": true
    },
    "kernelspec": {
      "display_name": "Python 3",
      "name": "python3"
    },
    "language_info": {
      "name": "python"
    }
  },
  "nbformat": 4,
  "nbformat_minor": 0
}