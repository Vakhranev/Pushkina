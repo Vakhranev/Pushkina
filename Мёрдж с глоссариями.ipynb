{
  "nbformat": 4,
  "nbformat_minor": 0,
  "metadata": {
    "colab": {
      "provenance": [],
      "authorship_tag": "ABX9TyNOflbQ3wpG0MoHZNSD4u5j",
      "include_colab_link": true
    },
    "kernelspec": {
      "name": "python3",
      "display_name": "Python 3"
    },
    "language_info": {
      "name": "python"
    }
  },
  "cells": [
    {
      "cell_type": "markdown",
      "metadata": {
        "id": "view-in-github",
        "colab_type": "text"
      },
      "source": [
        "<a href=\"https://colab.research.google.com/github/Vakhranev/Pushkina/blob/main/%D0%9C%D1%91%D1%80%D0%B4%D0%B6%20%D1%81%20%D0%B3%D0%BB%D0%BE%D1%81%D1%81%D0%B0%D1%80%D0%B8%D1%8F%D0%BC%D0%B8.ipynb\" target=\"_parent\"><img src=\"https://colab.research.google.com/assets/colab-badge.svg\" alt=\"Open In Colab\"/></a>"
      ]
    },
    {
      "cell_type": "code",
      "execution_count": 5,
      "metadata": {
        "colab": {
          "base_uri": "https://localhost:8080/"
        },
        "id": "JJ_u8dnQj-zv",
        "outputId": "a69347c7-0077-4858-ab20-8b675d2f6a00"
      },
      "outputs": [
        {
          "output_type": "stream",
          "name": "stdout",
          "text": [
            "Файл glossary_terms.xlsx сохранён.\n"
          ]
        }
      ],
      "source": [
        "import zipfile\n",
        "import os\n",
        "import pandas as pd\n",
        "import re\n",
        "\n",
        "# Распаковываем архив\n",
        "with zipfile.ZipFile(\"учебники.zip\", \"r\") as zip_ref:\n",
        "    zip_ref.extractall(\"учебники_extracted\")\n",
        "\n",
        "# Папки с учебниками\n",
        "folders = [\"учебники_extracted/books/world\", \"учебники_extracted/books/rf\"]\n",
        "\n",
        "data = []\n",
        "\n",
        "# Обрабатываем файлы\n",
        "for folder in folders:\n",
        "    for filename in os.listdir(folder):\n",
        "        match = re.match(r\"(\\d+)\", filename)\n",
        "        if match:\n",
        "            grade = match.group(1)  # Извлекаем номер класса\n",
        "            filepath = os.path.join(folder, filename)\n",
        "\n",
        "            with open(filepath, \"r\", encoding=\"utf-8\") as file:\n",
        "                for line in file:\n",
        "                    term = line.strip().lower()  # Приводим к нижнему регистру\n",
        "                    term = re.sub(r\"[\\(\\)\\[\\],]\", \"\", term)  # Удаляем запятые и скобки\n",
        "                    term = term.replace(\" \", \"_\")  # Заменяем пробелы на \"_\"\n",
        "\n",
        "                    if term:\n",
        "                        data.append([term, grade])\n",
        "\n",
        "# Создаём DataFrame\n",
        "df = pd.DataFrame(data, columns=[\"Термины глоссариев\", \"Классы глоссариев\"])\n",
        "\n",
        "# Сохраняем в Excel\n",
        "df.to_excel(\"glossary_terms.xlsx\", index=False)\n",
        "\n",
        "print(\"Файл glossary_terms.xlsx сохранён.\")"
      ]
    },
    {
      "cell_type": "code",
      "source": [
        "import pandas as pd\n",
        "\n",
        "# Загружаем файл\n",
        "glossary_terms = pd.read_excel(\"glossary_terms.xlsx\")\n",
        "\n",
        "# Приводим столбец \"Классы глоссариев\" к числовому типу\n",
        "glossary_terms[\"Классы глоссариев\"] = pd.to_numeric(glossary_terms[\"Классы глоссариев\"], errors=\"coerce\")\n",
        "\n",
        "# Удаляем дубликаты, оставляя запись с минимальным классом\n",
        "glossary_terms = glossary_terms.sort_values(\"Классы глоссариев\").drop_duplicates(subset=[\"Термины глоссариев\"], keep=\"first\")\n",
        "\n",
        "# Сохраняем очищенные данные\n",
        "glossary_terms.to_excel(\"glossary_terms_cleaned.xlsx\", index=False)\n",
        "\n",
        "print(\"Файл glossary_terms_cleaned.xlsx сохранён.\")"
      ],
      "metadata": {
        "colab": {
          "base_uri": "https://localhost:8080/"
        },
        "id": "oMQm0yUF1R8Q",
        "outputId": "5b81e649-df3b-49aa-e8ea-66cfcdc7e821"
      },
      "execution_count": 8,
      "outputs": [
        {
          "output_type": "stream",
          "name": "stdout",
          "text": [
            "Файл glossary_terms_cleaned.xlsx сохранён.\n"
          ]
        }
      ]
    },
    {
      "cell_type": "code",
      "source": [
        "import pandas as pd\n",
        "\n",
        "# Загружаем файлы\n",
        "merged_terms = pd.read_excel(\"merged_terms.xlsx\")\n",
        "glossary_terms = pd.read_excel(\"glossary_terms_cleaned.xlsx\")\n",
        "\n",
        "# Пробуем объединить по \"Начальные формы\" и \"Термины глоссариев\"\n",
        "merged_df = merged_terms.merge(glossary_terms, left_on=\"Начальные формы\", right_on=\"Термины глоссариев\", how=\"outer\")\n",
        "\n",
        "# Если не получилось, пробуем по \"termin\"\n",
        "if merged_df.empty:\n",
        "    merged_df = merged_terms.merge(glossary_terms, left_on=\"termin\", right_on=\"Термины глоссариев\", how=\"outer\")\n",
        "\n",
        "# Сохраняем результат\n",
        "merged_df.to_excel(\"final_merged.xlsx\", index=False)\n",
        "\n",
        "print(\"Файл final_merged.xlsx сохранён.\")"
      ],
      "metadata": {
        "colab": {
          "base_uri": "https://localhost:8080/"
        },
        "id": "TYPRu89fx82B",
        "outputId": "311b041c-df92-4dc0-c5fa-67b041cd420f"
      },
      "execution_count": 9,
      "outputs": [
        {
          "output_type": "stream",
          "name": "stdout",
          "text": [
            "Файл final_merged.xlsx сохранён.\n"
          ]
        }
      ]
    }
  ]
}