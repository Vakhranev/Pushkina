{
  "nbformat": 4,
  "nbformat_minor": 0,
  "metadata": {
    "colab": {
      "provenance": [],
      "authorship_tag": "ABX9TyOXi4hI8F50l9Ypt9TioMuZ",
      "include_colab_link": true
    },
    "kernelspec": {
      "name": "python3",
      "display_name": "Python 3"
    },
    "language_info": {
      "name": "python"
    }
  },
  "cells": [
    {
      "cell_type": "markdown",
      "metadata": {
        "id": "view-in-github",
        "colab_type": "text"
      },
      "source": [
        "<a href=\"https://colab.research.google.com/github/Vakhranev/Pushkina/blob/main/%D0%9C%D1%91%D1%80%D0%B4%D0%B6%20%D1%81%20%D0%B3%D0%BB%D0%BE%D1%81%D1%81%D0%B0%D1%80%D0%B8%D1%8F%D0%BC%D0%B8.ipynb\" target=\"_parent\"><img src=\"https://colab.research.google.com/assets/colab-badge.svg\" alt=\"Open In Colab\"/></a>"
      ]
    },
    {
      "cell_type": "code",
      "source": [
        "import pandas as pd\n",
        "\n",
        "# Загружаем файл\n",
        "glossary_terms = pd.read_excel(\"glossary_terms.xlsx\")\n",
        "\n",
        "# Приводим столбец \"Классы глоссариев\" к числовому типу\n",
        "glossary_terms[\"Классы глоссариев\"] = pd.to_numeric(glossary_terms[\"Классы глоссариев\"], errors=\"coerce\")\n",
        "\n",
        "# Удаляем дубликаты, оставляя запись с минимальным классом\n",
        "glossary_terms = glossary_terms.sort_values(\"Классы глоссариев\").drop_duplicates(subset=[\"Термины глоссариев\"], keep=\"first\")\n",
        "\n",
        "# Сохраняем очищенные данные\n",
        "glossary_terms.to_excel(\"glossary_terms_cleaned.xlsx\", index=False)\n",
        "\n",
        "print(\"Файл glossary_terms_cleaned.xlsx сохранён.\")"
      ],
      "metadata": {
        "colab": {
          "base_uri": "https://localhost:8080/"
        },
        "id": "oMQm0yUF1R8Q",
        "outputId": "e865cc0b-4f98-4f7a-830d-0cdecc995ac2"
      },
      "execution_count": 1,
      "outputs": [
        {
          "output_type": "stream",
          "name": "stdout",
          "text": [
            "Файл glossary_terms_cleaned.xlsx сохранён.\n"
          ]
        }
      ]
    },
    {
      "cell_type": "code",
      "source": [
        "import pandas as pd\n",
        "\n",
        "# Загружаем файлы\n",
        "merged_terms = pd.read_excel(\"merged_terms (3).xlsx\")\n",
        "glossary_terms = pd.read_excel(\"glossary_terms_cleaned.xlsx\")\n",
        "\n",
        "# Приводим глоссарные термины к нижнему регистру и удаляем лишние пробелы\n",
        "glossary_set = set(term.strip().lower() for term in glossary_terms[\"Термины глоссариев\"] if isinstance(term, str))\n",
        "\n",
        "# Создаём копию merged_terms и добавляем новый столбец\n",
        "merged_terms[\"Термин глоссариев (совпадение)\"] = \"\"\n",
        "\n",
        "# Проверяем совпадения и заполняем новый столбец\n",
        "for i, row in merged_terms.iterrows():\n",
        "    matched_term = None\n",
        "\n",
        "    if isinstance(row[\"Начальные формы\"], str) and row[\"Начальные формы\"].strip().lower() in glossary_set:\n",
        "        matched_term = row[\"Начальные формы\"].strip()\n",
        "    elif isinstance(row[\"termin\"], str) and row[\"termin\"].strip().lower() in glossary_set:\n",
        "        matched_term = row[\"termin\"].strip()\n",
        "\n",
        "    if matched_term:\n",
        "        merged_terms.at[i, \"Термин глоссариев (совпадение)\"] = matched_term\n",
        "\n",
        "# Сохраняем результат\n",
        "merged_terms.to_excel(\"final_merged_with_all_rows_and_matches.xlsx\", index=False)\n",
        "print(\"Файл final_merged_with_all_rows_and_matches.xlsx сохранён.\")"
      ],
      "metadata": {
        "colab": {
          "base_uri": "https://localhost:8080/"
        },
        "id": "TYPRu89fx82B",
        "outputId": "4404f4ac-c237-49ec-d3bc-d815e86e396a"
      },
      "execution_count": 2,
      "outputs": [
        {
          "output_type": "stream",
          "name": "stdout",
          "text": [
            "Файл final_merged_with_all_rows_and_matches.xlsx сохранён.\n"
          ]
        }
      ]
    },
    {
      "cell_type": "code",
      "source": [
        "import pandas as pd\n",
        "\n",
        "# Загружаем файлы\n",
        "final_merged = pd.read_excel(\"final_merged_with_all_rows_and_matches.xlsx\")\n",
        "glossary_terms = pd.read_excel(\"glossary_terms_cleaned.xlsx\")\n",
        "\n",
        "# Создаём словарь для быстрого поиска классов глоссариев по терминам\n",
        "glossary_dict = glossary_terms.set_index(\"Термины глоссариев\")[\"Классы глоссариев\"].to_dict()\n",
        "\n",
        "# Проходим по строкам final_merged\n",
        "for idx, row in final_merged.iterrows():\n",
        "    term_in_final = row[\"Термин глоссариев (совпадение)\"]\n",
        "\n",
        "    # Если термин найден и есть в glossary_terms\n",
        "    if isinstance(term_in_final, str) and term_in_final.strip().lower() in glossary_dict:\n",
        "        # Получаем соответствующий класс глоссария\n",
        "        class_value = glossary_dict[term_in_final.strip().lower()]\n",
        "\n",
        "        # Обновляем столбец \"Классы глоссариев\" в final_merged\n",
        "        final_merged.at[idx, \"Классы глоссариев\"] = class_value\n",
        "\n",
        "# Сохраняем обновлённый файл\n",
        "final_merged.to_excel(\"final_merged_with_updated_classes.xlsx\", index=False)\n",
        "\n",
        "print(\"Файл final_merged_with_updated_classes.xlsx сохранён.\")"
      ],
      "metadata": {
        "id": "OSfoyyJgth_0",
        "outputId": "52191ba1-daf6-4d92-9f14-1e0a88e8a145",
        "colab": {
          "base_uri": "https://localhost:8080/"
        }
      },
      "execution_count": 3,
      "outputs": [
        {
          "output_type": "stream",
          "name": "stdout",
          "text": [
            "Файл final_merged_with_updated_classes.xlsx сохранён.\n"
          ]
        }
      ]
    }
  ]
}