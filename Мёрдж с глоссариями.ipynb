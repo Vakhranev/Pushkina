{
  "nbformat": 4,
  "nbformat_minor": 0,
  "metadata": {
    "colab": {
      "provenance": [],
      "authorship_tag": "ABX9TyNSEhMuoySAr22Np4CobNRf",
      "include_colab_link": true
    },
    "kernelspec": {
      "name": "python3",
      "display_name": "Python 3"
    },
    "language_info": {
      "name": "python"
    }
  },
  "cells": [
    {
      "cell_type": "markdown",
      "metadata": {
        "id": "view-in-github",
        "colab_type": "text"
      },
      "source": [
        "<a href=\"https://colab.research.google.com/github/Vakhranev/Pushkina/blob/main/%D0%9C%D1%91%D1%80%D0%B4%D0%B6%20%D1%81%20%D0%B3%D0%BB%D0%BE%D1%81%D1%81%D0%B0%D1%80%D0%B8%D1%8F%D0%BC%D0%B8.ipynb\" target=\"_parent\"><img src=\"https://colab.research.google.com/assets/colab-badge.svg\" alt=\"Open In Colab\"/></a>"
      ]
    },
    {
      "cell_type": "code",
      "execution_count": null,
      "metadata": {
        "colab": {
          "base_uri": "https://localhost:8080/"
        },
        "id": "JJ_u8dnQj-zv",
        "outputId": "a88f62b2-5c3e-4f83-c2ea-cb0ec4d14f69"
      },
      "outputs": [
        {
          "output_type": "stream",
          "name": "stdout",
          "text": [
            "Файл final_merged_with_comparisons.xlsx сохранён.\n"
          ]
        }
      ],
      "source": [
        "import pandas as pd\n",
        "\n",
        "# Загружаем файлы\n",
        "merged_terms = pd.read_excel(\"merged_terms.xlsx\")\n",
        "glossary_terms = pd.read_excel(\"glossary_terms_cleaned.xlsx\")\n",
        "\n",
        "# Создаём список для результатов\n",
        "final_rows = []\n",
        "\n",
        "# Преобразуем список терминов глоссария в множество для быстрого поиска\n",
        "glossary_set = set(glossary_terms[\"Термины глоссариев\"].dropna().str.strip().str.lower())\n",
        "\n",
        "# Проверяем каждый термин из merged_terms\n",
        "for _, row in merged_terms.iterrows():\n",
        "    term_found = None\n",
        "\n",
        "    # Проверяем \"Начальные формы\"\n",
        "    if isinstance(row[\"Начальные формы\"], str) and row[\"Начальные формы\"].strip().lower() in glossary_set:\n",
        "        term_found = row[\"Начальные формы\"].strip()\n",
        "\n",
        "    # Проверяем \"termin\", если не нашли в \"Начальные формы\"\n",
        "    elif isinstance(row[\"termin\"], str) and row[\"termin\"].strip().lower() in glossary_set:\n",
        "        term_found = row[\"termin\"].strip()\n",
        "\n",
        "    # Добавляем строку в итоговый список\n",
        "    final_rows.append({\n",
        "        **row.to_dict(),\n",
        "        \"Термин глоссариев (совпадение)\": term_found,\n",
        "        \"Классы глоссариев\": row.get(\"Классы глоссариев\", None)  # Сохраняем классы глоссариев\n",
        "    })\n",
        "\n",
        "# Добавляем термины из глоссариев, которые не были найдены в merged_terms\n",
        "for _, row in glossary_terms.iterrows():\n",
        "    term = row[\"Термины глоссариев\"]\n",
        "    if isinstance(term, str) and term.strip().lower() not in glossary_set:\n",
        "        final_rows.append({\n",
        "            \"Начальные формы\": None,\n",
        "            \"termin\": None,\n",
        "            \"Термин глоссариев (совпадение)\": term,\n",
        "            \"Классы глоссариев\": row.get(\"Классы глоссариев\", None)\n",
        "        })\n",
        "\n",
        "# Создаём итоговый DataFrame\n",
        "final_df = pd.DataFrame(final_rows)\n",
        "\n",
        "# Сохраняем результат в Excel\n",
        "final_df.to_excel(\"final_merged_with_comparisons.xlsx\", index=False)\n",
        "\n",
        "print(\"Файл final_merged_with_comparisons.xlsx сохранён.\")"
      ]
    },
    {
      "cell_type": "code",
      "source": [
        "import pandas as pd\n",
        "\n",
        "# Загружаем файл\n",
        "glossary_terms = pd.read_excel(\"glossary_terms.xlsx\")\n",
        "\n",
        "# Приводим столбец \"Классы глоссариев\" к числовому типу\n",
        "glossary_terms[\"Классы глоссариев\"] = pd.to_numeric(glossary_terms[\"Классы глоссариев\"], errors=\"coerce\")\n",
        "\n",
        "# Удаляем дубликаты, оставляя запись с минимальным классом\n",
        "glossary_terms = glossary_terms.sort_values(\"Классы глоссариев\").drop_duplicates(subset=[\"Термины глоссариев\"], keep=\"first\")\n",
        "\n",
        "# Сохраняем очищенные данные\n",
        "glossary_terms.to_excel(\"glossary_terms_cleaned.xlsx\", index=False)\n",
        "\n",
        "print(\"Файл glossary_terms_cleaned.xlsx сохранён.\")"
      ],
      "metadata": {
        "colab": {
          "base_uri": "https://localhost:8080/"
        },
        "id": "oMQm0yUF1R8Q",
        "outputId": "ea76a5d8-6c3e-4e51-c5ee-d44f0469b92e"
      },
      "execution_count": 1,
      "outputs": [
        {
          "output_type": "stream",
          "name": "stdout",
          "text": [
            "Файл glossary_terms_cleaned.xlsx сохранён.\n"
          ]
        }
      ]
    },
    {
      "cell_type": "code",
      "source": [
        "import pandas as pd\n",
        "\n",
        "# Загружаем файлы\n",
        "merged_terms = pd.read_excel(\"merged_terms (3).xlsx\")\n",
        "glossary_terms = pd.read_excel(\"glossary_terms_cleaned.xlsx\")\n",
        "\n",
        "# Создаём пустой список для результатов\n",
        "final_rows = []\n",
        "\n",
        "# Обрабатываем каждый термин из столбца \"Термины глоссариев\"\n",
        "for term in glossary_terms[\"Термины глоссариев\"]:\n",
        "    match_found = False\n",
        "\n",
        "    for _, row in merged_terms.iterrows():\n",
        "        # Проверяем совпадение с \"Начальными формами\"\n",
        "        if isinstance(row[\"Начальные формы\"], str) and row[\"Начальные формы\"].strip().lower() == term.strip().lower():\n",
        "            final_rows.append({**row.to_dict(), \"Термин глоссариев (совпадение)\": term})\n",
        "            match_found = True\n",
        "            break\n",
        "\n",
        "        # Проверяем совпадение с \"termin\"\n",
        "        if isinstance(row[\"termin\"], str) and row[\"termin\"].strip().lower() == term.strip().lower():\n",
        "            final_rows.append({**row.to_dict(), \"Термин глоссариев (совпадение)\": term})\n",
        "            match_found = True\n",
        "            break\n",
        "\n",
        "    # Если совпадений нет, записываем только термин\n",
        "    if not match_found:\n",
        "        final_rows.append({\"Термин глоссариев (совпадение)\": term})\n",
        "\n",
        "# Создаём итоговый DataFrame\n",
        "final_df = pd.DataFrame(final_rows)\n",
        "\n",
        "# Сохраняем результат в Excel\n",
        "final_df.to_excel(\"final_merged_with_comparisons.xlsx\", index=False)\n",
        "\n",
        "print(\"Файл final_merged_with_comparisons.xlsx сохранён.\")"
      ],
      "metadata": {
        "colab": {
          "base_uri": "https://localhost:8080/"
        },
        "id": "TYPRu89fx82B",
        "outputId": "6b5c5236-92f1-4939-9b24-921a8a04a8f5"
      },
      "execution_count": 5,
      "outputs": [
        {
          "output_type": "stream",
          "name": "stdout",
          "text": [
            "Файл final_merged_with_comparisons.xlsx сохранён.\n"
          ]
        }
      ]
    },
    {
      "cell_type": "code",
      "source": [
        "import pandas as pd\n",
        "\n",
        "# Загружаем файлы\n",
        "final_merged = pd.read_excel(\"final_merged_with_comparisons.xlsx\")\n",
        "glossary_terms = pd.read_excel(\"glossary_terms_cleaned.xlsx\")\n",
        "\n",
        "# Создаём словарь для быстрого поиска классов глоссариев по терминам\n",
        "glossary_dict = glossary_terms.set_index(\"Термины глоссариев\")[\"Классы глоссариев\"].to_dict()\n",
        "\n",
        "# Проходим по строкам final_merged\n",
        "for idx, row in final_merged.iterrows():\n",
        "    term_in_final = row[\"Термин глоссариев (совпадение)\"]\n",
        "\n",
        "    # Если термин найден и есть в glossary_terms\n",
        "    if isinstance(term_in_final, str) and term_in_final.strip().lower() in glossary_dict:\n",
        "        # Получаем соответствующий класс глоссария\n",
        "        class_value = glossary_dict[term_in_final.strip().lower()]\n",
        "\n",
        "        # Обновляем столбец \"Классы глоссариев\" в final_merged\n",
        "        final_merged.at[idx, \"Классы глоссариев\"] = class_value\n",
        "\n",
        "# Сохраняем обновлённый файл\n",
        "final_merged.to_excel(\"final_merged_with_updated_classes.xlsx\", index=False)\n",
        "\n",
        "print(\"Файл final_merged_with_updated_classes.xlsx сохранён.\")"
      ],
      "metadata": {
        "id": "OSfoyyJgth_0",
        "outputId": "68f3668f-d2fe-443e-8421-4fe9dc71c3f6",
        "colab": {
          "base_uri": "https://localhost:8080/",
          "height": 561
        }
      },
      "execution_count": 3,
      "outputs": [
        {
          "output_type": "error",
          "ename": "KeyError",
          "evalue": "'Термин глоссариев (совпадение)'",
          "traceback": [
            "\u001b[0;31m---------------------------------------------------------------------------\u001b[0m",
            "\u001b[0;31mKeyError\u001b[0m                                  Traceback (most recent call last)",
            "\u001b[0;32m/usr/local/lib/python3.11/dist-packages/pandas/core/indexes/base.py\u001b[0m in \u001b[0;36mget_loc\u001b[0;34m(self, key)\u001b[0m\n\u001b[1;32m   3804\u001b[0m         \u001b[0;32mtry\u001b[0m\u001b[0;34m:\u001b[0m\u001b[0;34m\u001b[0m\u001b[0;34m\u001b[0m\u001b[0m\n\u001b[0;32m-> 3805\u001b[0;31m             \u001b[0;32mreturn\u001b[0m \u001b[0mself\u001b[0m\u001b[0;34m.\u001b[0m\u001b[0m_engine\u001b[0m\u001b[0;34m.\u001b[0m\u001b[0mget_loc\u001b[0m\u001b[0;34m(\u001b[0m\u001b[0mcasted_key\u001b[0m\u001b[0;34m)\u001b[0m\u001b[0;34m\u001b[0m\u001b[0;34m\u001b[0m\u001b[0m\n\u001b[0m\u001b[1;32m   3806\u001b[0m         \u001b[0;32mexcept\u001b[0m \u001b[0mKeyError\u001b[0m \u001b[0;32mas\u001b[0m \u001b[0merr\u001b[0m\u001b[0;34m:\u001b[0m\u001b[0;34m\u001b[0m\u001b[0;34m\u001b[0m\u001b[0m\n",
            "\u001b[0;32mindex.pyx\u001b[0m in \u001b[0;36mpandas._libs.index.IndexEngine.get_loc\u001b[0;34m()\u001b[0m\n",
            "\u001b[0;32mindex.pyx\u001b[0m in \u001b[0;36mpandas._libs.index.IndexEngine.get_loc\u001b[0;34m()\u001b[0m\n",
            "\u001b[0;32mpandas/_libs/hashtable_class_helper.pxi\u001b[0m in \u001b[0;36mpandas._libs.hashtable.PyObjectHashTable.get_item\u001b[0;34m()\u001b[0m\n",
            "\u001b[0;32mpandas/_libs/hashtable_class_helper.pxi\u001b[0m in \u001b[0;36mpandas._libs.hashtable.PyObjectHashTable.get_item\u001b[0;34m()\u001b[0m\n",
            "\u001b[0;31mKeyError\u001b[0m: 'Термин глоссариев (совпадение)'",
            "\nThe above exception was the direct cause of the following exception:\n",
            "\u001b[0;31mKeyError\u001b[0m                                  Traceback (most recent call last)",
            "\u001b[0;32m<ipython-input-3-667ac343bb00>\u001b[0m in \u001b[0;36m<cell line: 0>\u001b[0;34m()\u001b[0m\n\u001b[1;32m     10\u001b[0m \u001b[0;31m# Проходим по строкам final_merged\u001b[0m\u001b[0;34m\u001b[0m\u001b[0;34m\u001b[0m\u001b[0m\n\u001b[1;32m     11\u001b[0m \u001b[0;32mfor\u001b[0m \u001b[0midx\u001b[0m\u001b[0;34m,\u001b[0m \u001b[0mrow\u001b[0m \u001b[0;32min\u001b[0m \u001b[0mfinal_merged\u001b[0m\u001b[0;34m.\u001b[0m\u001b[0miterrows\u001b[0m\u001b[0;34m(\u001b[0m\u001b[0;34m)\u001b[0m\u001b[0;34m:\u001b[0m\u001b[0;34m\u001b[0m\u001b[0;34m\u001b[0m\u001b[0m\n\u001b[0;32m---> 12\u001b[0;31m     \u001b[0mterm_in_final\u001b[0m \u001b[0;34m=\u001b[0m \u001b[0mrow\u001b[0m\u001b[0;34m[\u001b[0m\u001b[0;34m\"Термин глоссариев (совпадение)\"\u001b[0m\u001b[0;34m]\u001b[0m\u001b[0;34m\u001b[0m\u001b[0;34m\u001b[0m\u001b[0m\n\u001b[0m\u001b[1;32m     13\u001b[0m \u001b[0;34m\u001b[0m\u001b[0m\n\u001b[1;32m     14\u001b[0m     \u001b[0;31m# Если термин найден и есть в glossary_terms\u001b[0m\u001b[0;34m\u001b[0m\u001b[0;34m\u001b[0m\u001b[0m\n",
            "\u001b[0;32m/usr/local/lib/python3.11/dist-packages/pandas/core/series.py\u001b[0m in \u001b[0;36m__getitem__\u001b[0;34m(self, key)\u001b[0m\n\u001b[1;32m   1119\u001b[0m \u001b[0;34m\u001b[0m\u001b[0m\n\u001b[1;32m   1120\u001b[0m         \u001b[0;32melif\u001b[0m \u001b[0mkey_is_scalar\u001b[0m\u001b[0;34m:\u001b[0m\u001b[0;34m\u001b[0m\u001b[0;34m\u001b[0m\u001b[0m\n\u001b[0;32m-> 1121\u001b[0;31m             \u001b[0;32mreturn\u001b[0m \u001b[0mself\u001b[0m\u001b[0;34m.\u001b[0m\u001b[0m_get_value\u001b[0m\u001b[0;34m(\u001b[0m\u001b[0mkey\u001b[0m\u001b[0;34m)\u001b[0m\u001b[0;34m\u001b[0m\u001b[0;34m\u001b[0m\u001b[0m\n\u001b[0m\u001b[1;32m   1122\u001b[0m \u001b[0;34m\u001b[0m\u001b[0m\n\u001b[1;32m   1123\u001b[0m         \u001b[0;31m# Convert generator to list before going through hashable part\u001b[0m\u001b[0;34m\u001b[0m\u001b[0;34m\u001b[0m\u001b[0m\n",
            "\u001b[0;32m/usr/local/lib/python3.11/dist-packages/pandas/core/series.py\u001b[0m in \u001b[0;36m_get_value\u001b[0;34m(self, label, takeable)\u001b[0m\n\u001b[1;32m   1235\u001b[0m \u001b[0;34m\u001b[0m\u001b[0m\n\u001b[1;32m   1236\u001b[0m         \u001b[0;31m# Similar to Index.get_value, but we do not fall back to positional\u001b[0m\u001b[0;34m\u001b[0m\u001b[0;34m\u001b[0m\u001b[0m\n\u001b[0;32m-> 1237\u001b[0;31m         \u001b[0mloc\u001b[0m \u001b[0;34m=\u001b[0m \u001b[0mself\u001b[0m\u001b[0;34m.\u001b[0m\u001b[0mindex\u001b[0m\u001b[0;34m.\u001b[0m\u001b[0mget_loc\u001b[0m\u001b[0;34m(\u001b[0m\u001b[0mlabel\u001b[0m\u001b[0;34m)\u001b[0m\u001b[0;34m\u001b[0m\u001b[0;34m\u001b[0m\u001b[0m\n\u001b[0m\u001b[1;32m   1238\u001b[0m \u001b[0;34m\u001b[0m\u001b[0m\n\u001b[1;32m   1239\u001b[0m         \u001b[0;32mif\u001b[0m \u001b[0mis_integer\u001b[0m\u001b[0;34m(\u001b[0m\u001b[0mloc\u001b[0m\u001b[0;34m)\u001b[0m\u001b[0;34m:\u001b[0m\u001b[0;34m\u001b[0m\u001b[0;34m\u001b[0m\u001b[0m\n",
            "\u001b[0;32m/usr/local/lib/python3.11/dist-packages/pandas/core/indexes/base.py\u001b[0m in \u001b[0;36mget_loc\u001b[0;34m(self, key)\u001b[0m\n\u001b[1;32m   3810\u001b[0m             ):\n\u001b[1;32m   3811\u001b[0m                 \u001b[0;32mraise\u001b[0m \u001b[0mInvalidIndexError\u001b[0m\u001b[0;34m(\u001b[0m\u001b[0mkey\u001b[0m\u001b[0;34m)\u001b[0m\u001b[0;34m\u001b[0m\u001b[0;34m\u001b[0m\u001b[0m\n\u001b[0;32m-> 3812\u001b[0;31m             \u001b[0;32mraise\u001b[0m \u001b[0mKeyError\u001b[0m\u001b[0;34m(\u001b[0m\u001b[0mkey\u001b[0m\u001b[0;34m)\u001b[0m \u001b[0;32mfrom\u001b[0m \u001b[0merr\u001b[0m\u001b[0;34m\u001b[0m\u001b[0;34m\u001b[0m\u001b[0m\n\u001b[0m\u001b[1;32m   3813\u001b[0m         \u001b[0;32mexcept\u001b[0m \u001b[0mTypeError\u001b[0m\u001b[0;34m:\u001b[0m\u001b[0;34m\u001b[0m\u001b[0;34m\u001b[0m\u001b[0m\n\u001b[1;32m   3814\u001b[0m             \u001b[0;31m# If we have a listlike key, _check_indexing_error will raise\u001b[0m\u001b[0;34m\u001b[0m\u001b[0;34m\u001b[0m\u001b[0m\n",
            "\u001b[0;31mKeyError\u001b[0m: 'Термин глоссариев (совпадение)'"
          ]
        }
      ]
    }
  ]
}