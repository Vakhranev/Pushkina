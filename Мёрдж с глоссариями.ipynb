{
  "nbformat": 4,
  "nbformat_minor": 0,
  "metadata": {
    "colab": {
      "provenance": [],
      "authorship_tag": "ABX9TyNHB8V0npxhRDoJSk9MIvEL",
      "include_colab_link": true
    },
    "kernelspec": {
      "name": "python3",
      "display_name": "Python 3"
    },
    "language_info": {
      "name": "python"
    }
  },
  "cells": [
    {
      "cell_type": "markdown",
      "metadata": {
        "id": "view-in-github",
        "colab_type": "text"
      },
      "source": [
        "<a href=\"https://colab.research.google.com/github/Vakhranev/Pushkina/blob/main/%D0%9C%D1%91%D1%80%D0%B4%D0%B6%20%D1%81%20%D0%B3%D0%BB%D0%BE%D1%81%D1%81%D0%B0%D1%80%D0%B8%D1%8F%D0%BC%D0%B8.ipynb\" target=\"_parent\"><img src=\"https://colab.research.google.com/assets/colab-badge.svg\" alt=\"Open In Colab\"/></a>"
      ]
    },
    {
      "cell_type": "code",
      "execution_count": 3,
      "metadata": {
        "colab": {
          "base_uri": "https://localhost:8080/"
        },
        "id": "JJ_u8dnQj-zv",
        "outputId": "a88f62b2-5c3e-4f83-c2ea-cb0ec4d14f69"
      },
      "outputs": [
        {
          "output_type": "stream",
          "name": "stdout",
          "text": [
            "Файл final_merged_with_comparisons.xlsx сохранён.\n"
          ]
        }
      ],
      "source": [
        "import pandas as pd\n",
        "\n",
        "# Загружаем файлы\n",
        "merged_terms = pd.read_excel(\"merged_terms.xlsx\")\n",
        "glossary_terms = pd.read_excel(\"glossary_terms_cleaned.xlsx\")\n",
        "\n",
        "# Создаём список для результатов\n",
        "final_rows = []\n",
        "\n",
        "# Преобразуем список терминов глоссария в множество для быстрого поиска\n",
        "glossary_set = set(glossary_terms[\"Термины глоссариев\"].dropna().str.strip().str.lower())\n",
        "\n",
        "# Проверяем каждый термин из merged_terms\n",
        "for _, row in merged_terms.iterrows():\n",
        "    term_found = None\n",
        "\n",
        "    # Проверяем \"Начальные формы\"\n",
        "    if isinstance(row[\"Начальные формы\"], str) and row[\"Начальные формы\"].strip().lower() in glossary_set:\n",
        "        term_found = row[\"Начальные формы\"].strip()\n",
        "\n",
        "    # Проверяем \"termin\", если не нашли в \"Начальные формы\"\n",
        "    elif isinstance(row[\"termin\"], str) and row[\"termin\"].strip().lower() in glossary_set:\n",
        "        term_found = row[\"termin\"].strip()\n",
        "\n",
        "    # Добавляем строку в итоговый список\n",
        "    final_rows.append({\n",
        "        **row.to_dict(),\n",
        "        \"Термин глоссариев (совпадение)\": term_found,\n",
        "        \"Классы глоссариев\": row.get(\"Классы глоссариев\", None)  # Сохраняем классы глоссариев\n",
        "    })\n",
        "\n",
        "# Добавляем термины из глоссариев, которые не были найдены в merged_terms\n",
        "for _, row in glossary_terms.iterrows():\n",
        "    term = row[\"Термины глоссариев\"]\n",
        "    if isinstance(term, str) and term.strip().lower() not in glossary_set:\n",
        "        final_rows.append({\n",
        "            \"Начальные формы\": None,\n",
        "            \"termin\": None,\n",
        "            \"Термин глоссариев (совпадение)\": term,\n",
        "            \"Классы глоссариев\": row.get(\"Классы глоссариев\", None)\n",
        "        })\n",
        "\n",
        "# Создаём итоговый DataFrame\n",
        "final_df = pd.DataFrame(final_rows)\n",
        "\n",
        "# Сохраняем результат в Excel\n",
        "final_df.to_excel(\"final_merged_with_comparisons.xlsx\", index=False)\n",
        "\n",
        "print(\"Файл final_merged_with_comparisons.xlsx сохранён.\")"
      ]
    },
    {
      "cell_type": "code",
      "source": [
        "import pandas as pd\n",
        "\n",
        "# Загружаем файл\n",
        "glossary_terms = pd.read_excel(\"glossary_terms.xlsx\")\n",
        "\n",
        "# Приводим столбец \"Классы глоссариев\" к числовому типу\n",
        "glossary_terms[\"Классы глоссариев\"] = pd.to_numeric(glossary_terms[\"Классы глоссариев\"], errors=\"coerce\")\n",
        "\n",
        "# Удаляем дубликаты, оставляя запись с минимальным классом\n",
        "glossary_terms = glossary_terms.sort_values(\"Классы глоссариев\").drop_duplicates(subset=[\"Термины глоссариев\"], keep=\"first\")\n",
        "\n",
        "# Сохраняем очищенные данные\n",
        "glossary_terms.to_excel(\"glossary_terms_cleaned.xlsx\", index=False)\n",
        "\n",
        "print(\"Файл glossary_terms_cleaned.xlsx сохранён.\")"
      ],
      "metadata": {
        "colab": {
          "base_uri": "https://localhost:8080/"
        },
        "id": "oMQm0yUF1R8Q",
        "outputId": "db99d519-6782-4b15-cb1e-7a48a490940e"
      },
      "execution_count": 2,
      "outputs": [
        {
          "output_type": "stream",
          "name": "stdout",
          "text": [
            "Файл glossary_terms_cleaned.xlsx сохранён.\n"
          ]
        }
      ]
    },
    {
      "cell_type": "code",
      "source": [
        "import pandas as pd\n",
        "\n",
        "# Загружаем файлы\n",
        "merged_terms = pd.read_excel(\"merged_terms.xlsx\")\n",
        "glossary_terms = pd.read_excel(\"glossary_terms_cleaned.xlsx\")\n",
        "\n",
        "# Создаём пустой список для результатов\n",
        "final_rows = []\n",
        "\n",
        "# Обрабатываем каждый термин из столбца \"Термины глоссариев\"\n",
        "for term in glossary_terms[\"Термины глоссариев\"]:\n",
        "    # Ищем совпадения с \"Начальные формы\"\n",
        "    match_found = False\n",
        "    for _, row in merged_terms.iterrows():\n",
        "        # Проверяем, что в \"Начальных формах\" строка, перед тем как вызвать strip()\n",
        "        if isinstance(row[\"Начальные формы\"], str) and row[\"Начальные формы\"].strip().lower() == term.strip().lower():\n",
        "            final_rows.append({**row.to_dict(), \"Термин глоссариев (совпало с Начальной формой)\": term})\n",
        "            match_found = True\n",
        "            break\n",
        "\n",
        "    # Если совпадений с \"Начальные формы\" не найдено, ищем в \"termin\"\n",
        "    if not match_found:\n",
        "        for _, row in merged_terms.iterrows():\n",
        "            # Проверяем, что в \"termin\" строка, перед тем как вызвать strip()\n",
        "            if isinstance(row[\"termin\"], str) and row[\"termin\"].strip().lower() == term.strip().lower():\n",
        "                final_rows.append({**row.to_dict(), \"Термин глоссариев (совпало с termin)\": term})\n",
        "                match_found = True\n",
        "                break\n",
        "\n",
        "    # Если совпадений нет, записываем термин на отдельной строке\n",
        "    if not match_found:\n",
        "        final_rows.append({\"Термин глоссариев (нет совпадений)\": term})\n",
        "\n",
        "# Создаём итоговый DataFrame\n",
        "final_df = pd.DataFrame(final_rows)\n",
        "\n",
        "# Сохраняем результат в Excel\n",
        "final_df.to_excel(\"final_merged_with_comparisons.xlsx\", index=False)\n",
        "\n",
        "print(\"Файл final_merged_with_comparisons.xlsx сохранён.\")"
      ],
      "metadata": {
        "colab": {
          "base_uri": "https://localhost:8080/"
        },
        "id": "TYPRu89fx82B",
        "outputId": "432a6b07-f8dd-4524-d986-50900eb7c7b0"
      },
      "execution_count": 7,
      "outputs": [
        {
          "output_type": "stream",
          "name": "stdout",
          "text": [
            "Файл final_merged_with_comparisons.xlsx сохранён.\n"
          ]
        }
      ]
    },
    {
      "cell_type": "code",
      "source": [
        "import pandas as pd\n",
        "\n",
        "# Загружаем файлы\n",
        "final_merged = pd.read_excel(\"final_merged_with_comparisons.xlsx\")\n",
        "glossary_terms = pd.read_excel(\"glossary_terms_cleaned.xlsx\")\n",
        "\n",
        "# Создаём словарь для быстрого поиска классов глоссариев по терминам\n",
        "glossary_dict = glossary_terms.set_index(\"Термины глоссариев\")[\"Классы глоссариев\"].to_dict()\n",
        "\n",
        "# Проходим по строкам final_merged\n",
        "for idx, row in final_merged.iterrows():\n",
        "    term_in_final = row[\"Термин глоссариев (совпадение)\"]\n",
        "\n",
        "    # Если термин найден и есть в glossary_terms\n",
        "    if isinstance(term_in_final, str) and term_in_final.strip().lower() in glossary_dict:\n",
        "        # Получаем соответствующий класс глоссария\n",
        "        class_value = glossary_dict[term_in_final.strip().lower()]\n",
        "\n",
        "        # Обновляем столбец \"Классы глоссариев\" в final_merged\n",
        "        final_merged.at[idx, \"Классы глоссариев\"] = class_value\n",
        "\n",
        "# Сохраняем обновлённый файл\n",
        "final_merged.to_excel(\"final_merged_with_updated_classes.xlsx\", index=False)\n",
        "\n",
        "print(\"Файл final_merged_with_updated_classes.xlsx сохранён.\")"
      ],
      "metadata": {
        "id": "OSfoyyJgth_0",
        "outputId": "ca89a370-f790-41ff-80ae-a1ecbacdcad1",
        "colab": {
          "base_uri": "https://localhost:8080/"
        }
      },
      "execution_count": 4,
      "outputs": [
        {
          "output_type": "stream",
          "name": "stdout",
          "text": [
            "Файл final_merged_with_updated_classes.xlsx сохранён.\n"
          ]
        }
      ]
    }
  ]
}