{
  "nbformat": 4,
  "nbformat_minor": 0,
  "metadata": {
    "colab": {
      "provenance": [],
      "authorship_tag": "ABX9TyPMN+in6TBBgHhmRLlw7j3i",
      "include_colab_link": true
    },
    "kernelspec": {
      "name": "python3",
      "display_name": "Python 3"
    },
    "language_info": {
      "name": "python"
    }
  },
  "cells": [
    {
      "cell_type": "markdown",
      "metadata": {
        "id": "view-in-github",
        "colab_type": "text"
      },
      "source": [
        "<a href=\"https://colab.research.google.com/github/Vakhranev/Pushkina/blob/main/%D0%95%D1%81%D1%82%D0%B5%D1%81%D1%82%D0%B2%D0%BE%D0%B7%D0%BD%D0%B0%D0%BD%D0%B8%D0%B5%201-4.ipynb\" target=\"_parent\"><img src=\"https://colab.research.google.com/assets/colab-badge.svg\" alt=\"Open In Colab\"/></a>"
      ]
    },
    {
      "cell_type": "code",
      "execution_count": 2,
      "metadata": {
        "id": "vNRJUoaPHa3X"
      },
      "outputs": [],
      "source": [
        "import pandas as pd\n",
        "import ast\n",
        "\n",
        "# Загрузка файла\n",
        "df = pd.read_excel('merged_with_matches_and_migrant_data (1).xlsx')\n",
        "\n",
        "# Приведение нужных колонок к строковому типу\n",
        "df['Предмет'] = df['Предмет'].astype(str)\n",
        "df['Минимальный класс, где встречается'] = df['Минимальный класс, где встречается'].astype(str)\n",
        "df['discipline'] = df['discipline'].astype(str)\n",
        "df['stages'] = df['stages'].astype(str)\n",
        "\n",
        "# Функция для проверки: \"Естествознание\" в Предмет и класс ≤ 4\n",
        "def condition_predmet(row):\n",
        "    try:\n",
        "        subjects = [s.strip() for s in row['Предмет'].split(',')]\n",
        "        grades = [int(x.strip()) for x in row['Минимальный класс, где встречается'].split(',') if x.strip().isdigit()]\n",
        "        return 'Естествознание' in subjects and any(g <= 4 for g in grades)\n",
        "    except:\n",
        "        return False\n",
        "\n",
        "# Функция для проверки: \"Естествознание\" в discipline и класс ≤ 4\n",
        "def condition_discipline(row):\n",
        "    try:\n",
        "        disciplines = ast.literal_eval(row['discipline'])\n",
        "        stages = ast.literal_eval(row['stages'])\n",
        "        return 'Естествознание' in disciplines and any(g <= 4 for g in stages)\n",
        "    except:\n",
        "        return False\n",
        "\n",
        "# Применяем фильтрацию: хотя бы одно из условий\n",
        "filtered_df = df[df.apply(lambda row: condition_predmet(row) or condition_discipline(row), axis=1)]\n",
        "\n",
        "# Сохраняем результат\n",
        "filtered_df.to_excel('filtered_output.xlsx', index=False)"
      ]
    }
  ]
}