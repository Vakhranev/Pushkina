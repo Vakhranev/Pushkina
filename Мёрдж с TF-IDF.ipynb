{
  "nbformat": 4,
  "nbformat_minor": 0,
  "metadata": {
    "colab": {
      "provenance": [],
      "authorship_tag": "ABX9TyPBZ2ONjyH6g1h2jdL29yBT",
      "include_colab_link": true
    },
    "kernelspec": {
      "name": "python3",
      "display_name": "Python 3"
    },
    "language_info": {
      "name": "python"
    }
  },
  "cells": [
    {
      "cell_type": "markdown",
      "metadata": {
        "id": "view-in-github",
        "colab_type": "text"
      },
      "source": [
        "<a href=\"https://colab.research.google.com/github/Vakhranev/Pushkina/blob/main/%D0%9C%D1%91%D1%80%D0%B4%D0%B6%20%D1%81%20TF-IDF.ipynb\" target=\"_parent\"><img src=\"https://colab.research.google.com/assets/colab-badge.svg\" alt=\"Open In Colab\"/></a>"
      ]
    },
    {
      "cell_type": "code",
      "execution_count": 1,
      "metadata": {
        "colab": {
          "base_uri": "https://localhost:8080/"
        },
        "id": "P4vo4m8ZTxiY",
        "outputId": "430d037e-ec14-407a-9118-00b6cbb9a662"
      },
      "outputs": [
        {
          "output_type": "stream",
          "name": "stdout",
          "text": [
            "Файл обновленная_лексика_мигранты_обработанная.csv сохранён.\n"
          ]
        }
      ],
      "source": [
        "import pandas as pd\n",
        "\n",
        "# Загружаем файл\n",
        "df = pd.read_csv(\"обновленная_лексика_мигранты.csv\")\n",
        "\n",
        "# Создаём новый столбец \"words\", извлекая первую часть перед \"__\"\n",
        "df[\"words\"] = df[\"lemma__pos\"].str.split(\"__\").str[0]\n",
        "\n",
        "# Сохраняем обновлённый файл\n",
        "df.to_csv(\"обновленная_лексика_мигранты_обработанная.csv\", index=False)\n",
        "\n",
        "print(\"Файл обновленная_лексика_мигранты_обработанная.csv сохранён.\")"
      ]
    },
    {
      "cell_type": "code",
      "source": [
        "import pandas as pd\n",
        "\n",
        "# Загружаем файлы\n",
        "final_merged = pd.read_excel(\"final_merged (1).xlsx\")\n",
        "migrant_words = pd.read_csv(\"обновленная_лексика_мигранты_обработанная.csv\")\n",
        "\n",
        "# Пробуем объединить по \"Начальные формы\"\n",
        "merged_df = final_merged.merge(migrant_words, left_on=\"Начальные формы\", right_on=\"words\", how=\"outer\")\n",
        "\n",
        "# Если не получилось, пробуем по \"termin\"\n",
        "if merged_df.empty:\n",
        "    merged_df = final_merged.merge(migrant_words, left_on=\"termin\", right_on=\"words\", how=\"outer\")\n",
        "\n",
        "# Если всё ещё не получилось, пробуем по \"Термины глоссариев\"\n",
        "if merged_df.empty:\n",
        "    merged_df = final_merged.merge(migrant_words, left_on=\"Термины глоссариев\", right_on=\"words\", how=\"outer\")\n",
        "\n",
        "# Сохраняем результат\n",
        "merged_df.to_excel(\"final_merged_updated.xlsx\", index=False)\n",
        "\n",
        "print(\"Файл final_merged_updated.xlsx сохранён.\")"
      ],
      "metadata": {
        "colab": {
          "base_uri": "https://localhost:8080/"
        },
        "id": "INV4uV6gVDVK",
        "outputId": "79fdddc9-8165-462c-bf15-2a3f055f319f"
      },
      "execution_count": 2,
      "outputs": [
        {
          "output_type": "stream",
          "name": "stdout",
          "text": [
            "Файл final_merged_updated.xlsx сохранён.\n"
          ]
        }
      ]
    }
  ]
}