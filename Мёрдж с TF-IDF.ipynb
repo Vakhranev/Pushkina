{
  "nbformat": 4,
  "nbformat_minor": 0,
  "metadata": {
    "colab": {
      "provenance": [],
      "authorship_tag": "ABX9TyOoAgRZMCKA9ENOj9RiTSEW",
      "include_colab_link": true
    },
    "kernelspec": {
      "name": "python3",
      "display_name": "Python 3"
    },
    "language_info": {
      "name": "python"
    }
  },
  "cells": [
    {
      "cell_type": "markdown",
      "metadata": {
        "id": "view-in-github",
        "colab_type": "text"
      },
      "source": [
        "<a href=\"https://colab.research.google.com/github/Vakhranev/Pushkina/blob/main/%D0%9C%D1%91%D1%80%D0%B4%D0%B6%20%D1%81%20TF-IDF.ipynb\" target=\"_parent\"><img src=\"https://colab.research.google.com/assets/colab-badge.svg\" alt=\"Open In Colab\"/></a>"
      ]
    },
    {
      "cell_type": "code",
      "source": [
        "import pandas as pd\n",
        "\n",
        "# Загружаем файл с дополнительной информацией (столбцы D:AC)\n",
        "extra_data = pd.read_excel(\"лексика мигранты однословные (определение типа лексемы).xlsx\", usecols=\"D:AC\")\n",
        "\n",
        "# Загружаем основной CSV-файл\n",
        "main_data = pd.read_csv(\"обновленная_лексика_мигранты.csv\")\n",
        "\n",
        "# Проверим, совпадают ли размеры\n",
        "if len(main_data) != len(extra_data):\n",
        "    print(f\"⚠️ Внимание: количество строк в файлах отличается! main_data: {len(main_data)}, extra_data: {len(extra_data)}\")\n",
        "else:\n",
        "    print(f\"✅ Строки совпадают: {len(main_data)}\")\n",
        "\n",
        "# Объединяем по индексу\n",
        "merged_data = pd.concat([main_data, extra_data], axis=1)\n",
        "\n",
        "# Сохраняем результат\n",
        "merged_data.to_csv(\"обновленная_лексика_мигранты_с_типами.csv\", index=False)\n",
        "\n",
        "print(\"Файл обновленная_лексика_мигранты_с_типами.csv сохранён.\")"
      ],
      "metadata": {
        "id": "8VM49f-87Uh3",
        "outputId": "46ef4241-d765-4ab6-d989-037c46133d73",
        "colab": {
          "base_uri": "https://localhost:8080/"
        }
      },
      "execution_count": 1,
      "outputs": [
        {
          "output_type": "stream",
          "name": "stdout",
          "text": [
            "✅ Строки совпадают: 10274\n",
            "Файл обновленная_лексика_мигранты_с_типами.csv сохранён.\n"
          ]
        }
      ]
    },
    {
      "cell_type": "code",
      "execution_count": 2,
      "metadata": {
        "colab": {
          "base_uri": "https://localhost:8080/"
        },
        "id": "P4vo4m8ZTxiY",
        "outputId": "b22b6936-bab5-410e-f35d-33b95aa79161"
      },
      "outputs": [
        {
          "output_type": "stream",
          "name": "stdout",
          "text": [
            "Файл обновленная_лексика_мигранты_обработанная.csv сохранён.\n"
          ]
        }
      ],
      "source": [
        "import pandas as pd\n",
        "\n",
        "# Загружаем файл\n",
        "df = pd.read_csv(\"обновленная_лексика_мигранты_с_типами.csv\")\n",
        "\n",
        "# Создаём новый столбец \"words\", извлекая первую часть перед \"__\"\n",
        "df[\"words\"] = df[\"lemma__pos\"].str.split(\"__\").str[0]\n",
        "\n",
        "# Сохраняем обновлённый файл\n",
        "df.to_csv(\"обновленная_лексика_мигранты_обработанная.csv\", index=False)\n",
        "\n",
        "print(\"Файл обновленная_лексика_мигранты_обработанная.csv сохранён.\")"
      ]
    },
    {
      "cell_type": "code",
      "source": [
        "import pandas as pd\n",
        "\n",
        "# Загружаем файлы\n",
        "words_df = pd.read_csv(\"обновленная_лексика_мигранты_обработанная.csv\")\n",
        "merged_df = pd.read_excel(\"merged_with_updated_classes.xlsx\")\n",
        "\n",
        "# Приводим слова к нижнему регистру, убираем пробелы и создаём множество\n",
        "words_set = set(word.strip().lower() for word in words_df[\"words\"] if isinstance(word, str))\n",
        "\n",
        "# Добавляем новый столбец в merged_df для фиксации совпадений\n",
        "merged_df[\"Совпавший термин\"] = \"\"\n",
        "\n",
        "# Проверка совпадений\n",
        "for i, row in merged_df.iterrows():\n",
        "    matched_word = None\n",
        "\n",
        "    # Проверяем в \"Начальных формах\"\n",
        "    if isinstance(row[\"Начальные формы\"], str) and row[\"Начальные формы\"].strip().lower() in words_set:\n",
        "        matched_word = row[\"Начальные формы\"].strip()\n",
        "\n",
        "    # Проверяем в \"termin\"\n",
        "    elif isinstance(row[\"termin\"], str) and row[\"termin\"].strip().lower() in words_set:\n",
        "        matched_word = row[\"termin\"].strip()\n",
        "\n",
        "    # Проверяем в \"Классы глоссариев\"\n",
        "    elif isinstance(row[\"Классы глоссариев\"], str) and row[\"Классы глоссариев\"].strip().lower() in words_set:\n",
        "        matched_word = row[\"Классы глоссариев\"].strip()\n",
        "\n",
        "    # Сохраняем совпадение\n",
        "    if matched_word:\n",
        "        merged_df.at[i, \"Совпавший термин\"] = matched_word\n",
        "\n",
        "# Сохраняем результат\n",
        "merged_df.to_excel(\"merged_with_matches_from_migrant_words.xlsx\", index=False)\n",
        "print(\"✅ Файл merged_with_matches_from_migrant_words.xlsx сохранён.\")"
      ],
      "metadata": {
        "id": "3iui1Mct-g_M",
        "outputId": "9aefd739-dbf8-45ab-9570-c924b4764908",
        "colab": {
          "base_uri": "https://localhost:8080/"
        }
      },
      "execution_count": 3,
      "outputs": [
        {
          "output_type": "stream",
          "name": "stdout",
          "text": [
            "✅ Файл merged_with_matches_from_migrant_words.xlsx сохранён.\n"
          ]
        }
      ]
    },
    {
      "cell_type": "code",
      "source": [
        "import pandas as pd\n",
        "\n",
        "# Загружаем файлы\n",
        "merged_df = pd.read_excel(\"merged_with_matches_from_migrant_words.xlsx\")\n",
        "migrant_df = pd.read_csv(\"обновленная_лексика_мигранты_обработанная.csv\")\n",
        "\n",
        "# Удалим пробелы и приведём к нижнему регистру в обоих файлах\n",
        "migrant_df[\"words_normalized\"] = migrant_df[\"words\"].astype(str).str.strip().str.lower()\n",
        "merged_df[\"Совпавший термин нормализованный\"] = merged_df[\"Совпавший термин\"].astype(str).str.strip().str.lower()\n",
        "\n",
        "# Столбцы, которые надо скопировать (B–AE = 1:31)\n",
        "migrant_columns_to_add = migrant_df.columns[1:31]\n",
        "\n",
        "# Создаём копию итогового датафрейма\n",
        "result_df = merged_df.copy()\n",
        "\n",
        "# Добавим нужные столбцы в итоговый датафрейм (на всякий случай, если их нет)\n",
        "for col in migrant_columns_to_add:\n",
        "    if col not in result_df.columns:\n",
        "        result_df[col] = None\n",
        "\n",
        "# Проходим по строкам merged_df и копируем данные, если есть совпадение\n",
        "for idx, row in merged_df.iterrows():\n",
        "    norm_term = row[\"Совпавший термин нормализованный\"]\n",
        "    match_rows = migrant_df[migrant_df[\"words_normalized\"] == norm_term]\n",
        "\n",
        "    if not match_rows.empty:\n",
        "        # Берём первую подходящую строку (если вдруг их несколько)\n",
        "        match_row = match_rows.iloc[0]\n",
        "        for col in migrant_columns_to_add:\n",
        "            result_df.at[idx, col] = match_row[col]\n",
        "\n",
        "# Сохраняем результат\n",
        "result_df.drop(columns=[\"Совпавший термин нормализованный\"], inplace=True)\n",
        "result_df.to_excel(\"merged_with_matches_and_migrant_data.xlsx\", index=False)\n",
        "\n",
        "print(\"✅ Готово: файл merged_with_matches_and_migrant_data.xlsx сохранён.\")"
      ],
      "metadata": {
        "id": "cVMXRSwAAuL_",
        "outputId": "c30b2e37-c8ae-4605-f031-70efde9a57e9",
        "colab": {
          "base_uri": "https://localhost:8080/"
        }
      },
      "execution_count": 5,
      "outputs": [
        {
          "output_type": "stream",
          "name": "stdout",
          "text": [
            "✅ Готово: файл merged_with_matches_and_migrant_data.xlsx сохранён.\n"
          ]
        }
      ]
    }
  ]
}