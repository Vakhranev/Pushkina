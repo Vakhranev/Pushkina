{
  "nbformat": 4,
  "nbformat_minor": 0,
  "metadata": {
    "colab": {
      "provenance": [],
      "authorship_tag": "ABX9TyNdrxjmC6eyN8njtMO+4vEw",
      "include_colab_link": true
    },
    "kernelspec": {
      "name": "python3",
      "display_name": "Python 3"
    },
    "language_info": {
      "name": "python"
    }
  },
  "cells": [
    {
      "cell_type": "markdown",
      "metadata": {
        "id": "view-in-github",
        "colab_type": "text"
      },
      "source": [
        "<a href=\"https://colab.research.google.com/github/Vakhranev/Pushkina/blob/main/%D0%92%D1%8B%D0%B1%D0%BE%D1%80%D0%BA%D0%B8%20%D1%82%D0%B5%D1%80%D0%BC%D0%B8%D0%BD%D0%BE%D0%B2.ipynb\" target=\"_parent\"><img src=\"https://colab.research.google.com/assets/colab-badge.svg\" alt=\"Open In Colab\"/></a>"
      ]
    },
    {
      "cell_type": "code",
      "execution_count": 1,
      "metadata": {
        "colab": {
          "base_uri": "https://localhost:8080/"
        },
        "id": "-VsoWFq5F611",
        "outputId": "f7d11a23-23ad-4541-97b3-8cd17bbf4169"
      },
      "outputs": [
        {
          "output_type": "stream",
          "name": "stdout",
          "text": [
            "✅ Файл filtered_terms_by_conditions.xlsx сохранён.\n"
          ]
        }
      ],
      "source": [
        "import pandas as pd\n",
        "import ast\n",
        "\n",
        "# Загрузка данных\n",
        "df = pd.read_excel(\"merged_with_matches_and_migrant_data.xlsx\")\n",
        "\n",
        "# Функция для проверки строки по всем трём условиям\n",
        "def check_row(row):\n",
        "    try:\n",
        "        # Преобразуем строки в списки\n",
        "        disciplines = ast.literal_eval(row[\"discipline\"])\n",
        "        checks = ast.literal_eval(row[\"check\"])\n",
        "        stages = ast.literal_eval(row[\"stages\"])\n",
        "\n",
        "        subjects = [s.strip() for s in str(row[\"Предмет\"]).split(\",\")]\n",
        "        subject_grades = [int(s.strip()) for s in str(row[\"Минимальный класс, где встречается\"]).split(\",\")]\n",
        "\n",
        "        # Условие 1: хотя бы один 'term' в check\n",
        "        if \"term\" not in checks:\n",
        "            return False\n",
        "\n",
        "        # Составляем список дисциплин, где check == 'term'\n",
        "        term_disciplines = [d for d, c in zip(disciplines, checks) if c == \"term\"]\n",
        "        term_stages = [s for s, c in zip(stages, checks) if c == \"term\"]\n",
        "\n",
        "        # Условие 2: совпадают названия предметов\n",
        "        if set(term_disciplines) != set(subjects):\n",
        "            return False\n",
        "\n",
        "        # Условие 3: классы различаются не больше чем на 1\n",
        "        for td in term_disciplines:\n",
        "            if td not in subjects:\n",
        "                return False\n",
        "            idx_subject = subjects.index(td)\n",
        "            idx_term = term_disciplines.index(td)\n",
        "            subj_grade = subject_grades[idx_subject]\n",
        "            term_grade = int(term_stages[idx_term])\n",
        "\n",
        "            if abs(subj_grade - term_grade) > 1:\n",
        "                return False\n",
        "\n",
        "        return True\n",
        "\n",
        "    except Exception:\n",
        "        return False\n",
        "\n",
        "# Применяем фильтрацию\n",
        "filtered_df = df[df.apply(check_row, axis=1)]\n",
        "\n",
        "# Сохраняем результат\n",
        "filtered_df.to_excel(\"filtered_terms_by_conditions.xlsx\", index=False)\n",
        "\n",
        "print(\"✅ Файл filtered_terms_by_conditions.xlsx сохранён.\")"
      ]
    },
    {
      "cell_type": "code",
      "source": [
        "import pandas as pd\n",
        "import ast\n",
        "\n",
        "# Загрузка данных\n",
        "df = pd.read_excel(\"merged_with_matches_and_migrant_data.xlsx\")\n",
        "\n",
        "def check_grade_difference(row):\n",
        "    try:\n",
        "        # Получаем дисциплины и классы из столбцов discipline и stages\n",
        "        disciplines = ast.literal_eval(row[\"discipline\"])\n",
        "        discipline_grades = [int(s) for s in ast.literal_eval(row[\"stages\"])]\n",
        "\n",
        "        # Получаем предметы и классы из столбцов Предмет и Минимальный класс, где встречается\n",
        "        subjects = [s.strip() for s in str(row[\"Предмет\"]).split(\",\")]\n",
        "        subject_grades = [int(s.strip()) for s in str(row[\"Минимальный класс, где встречается\"]).split(\",\")]\n",
        "\n",
        "        # Преобразуем в словари для сопоставления по названиям\n",
        "        subj_grade_dict = dict(zip(subjects, subject_grades))\n",
        "        disc_grade_dict = dict(zip(disciplines, discipline_grades))\n",
        "\n",
        "        # Находим общие предметы\n",
        "        common_subjects = set(subjects).intersection(set(disciplines))\n",
        "\n",
        "        if not common_subjects:\n",
        "            return False\n",
        "\n",
        "        # Проверяем разницу в классах\n",
        "        for subj in common_subjects:\n",
        "            if abs(subj_grade_dict[subj] - disc_grade_dict[subj]) > 1:\n",
        "                return False\n",
        "\n",
        "        return True\n",
        "\n",
        "    except Exception:\n",
        "        return False\n",
        "\n",
        "# Фильтруем строки\n",
        "filtered_df = df[df.apply(check_grade_difference, axis=1)]\n",
        "\n",
        "# Сохраняем результат\n",
        "filtered_df.to_excel(\"filtered_by_class_difference.xlsx\", index=False)\n",
        "\n",
        "print(\"✅ Файл filtered_by_class_difference.xlsx сохранён.\")"
      ],
      "metadata": {
        "colab": {
          "base_uri": "https://localhost:8080/"
        },
        "id": "Ip6eKIsFI-wE",
        "outputId": "1f646214-5e79-4854-bdfc-80cfd5f5c2f7"
      },
      "execution_count": 2,
      "outputs": [
        {
          "output_type": "stream",
          "name": "stdout",
          "text": [
            "✅ Файл filtered_by_class_difference.xlsx сохранён.\n"
          ]
        }
      ]
    },
    {
      "cell_type": "code",
      "source": [
        "import pandas as pd\n",
        "import ast\n",
        "\n",
        "# Загружаем файл\n",
        "df = pd.read_excel(\"merged_with_matches_and_migrant_data.xlsx\")\n",
        "\n",
        "# Функция для фильтрации строк\n",
        "def check_conditions(row):\n",
        "    try:\n",
        "        # Проверка 1: нет ни одного 'term'\n",
        "        check_values = ast.literal_eval(str(row[\"check\"]))\n",
        "        if \"term\" in check_values:\n",
        "            return False\n",
        "\n",
        "        # Предметы из discipline\n",
        "        discipline_subjects = ast.literal_eval(str(row[\"discipline\"]))\n",
        "\n",
        "        # Предметы из столбца \"Предмет\"\n",
        "        if pd.isna(row[\"Предмет\"]):\n",
        "            predmets = []\n",
        "        else:\n",
        "            raw_items = str(row[\"Предмет\"]).split(\",\")\n",
        "            predmets = [s.strip() for s in raw_items if s.strip().lower() not in ('', 'nan')]\n",
        "\n",
        "        # Объединяем и считаем уникальные предметы\n",
        "        total_unique_subjects = set(discipline_subjects + predmets)\n",
        "\n",
        "        # Проверка 2: должно быть 3 или больше уникальных предметов\n",
        "        return len(total_unique_subjects) >= 3\n",
        "\n",
        "    except Exception:\n",
        "        return False\n",
        "\n",
        "# Применяем фильтр\n",
        "filtered_df = df[df.apply(check_conditions, axis=1)]\n",
        "\n",
        "# Сохраняем результат\n",
        "filtered_df.to_excel(\"merged_filtered_no_term_and_3plus_subjects.xlsx\", index=False)\n",
        "\n",
        "print(\"Файл 'merged_filtered_no_term_and_3plus_subjects.xlsx' сохранён.\")"
      ],
      "metadata": {
        "colab": {
          "base_uri": "https://localhost:8080/"
        },
        "id": "WE2waL2HK9Q3",
        "outputId": "0f3f2603-a2d3-47d9-c741-89c0aa344535"
      },
      "execution_count": 4,
      "outputs": [
        {
          "output_type": "stream",
          "name": "stdout",
          "text": [
            "Файл 'merged_filtered_no_term_and_3plus_subjects.xlsx' сохранён.\n"
          ]
        }
      ]
    }
  ]
}